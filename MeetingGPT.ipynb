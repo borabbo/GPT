{
 "cells": [
  {
   "cell_type": "code",
   "execution_count": 31,
   "metadata": {},
   "outputs": [],
   "source": [
    "import subprocess\n",
    "import math\n",
    "from pydub import AudioSegment\n",
    "import os\n",
    "import glob\n",
    "import openai\n",
    "\n",
    "# ffmpeg와 ffprobe의 경로를 환경 번수에 설정\n",
    "os.environ[\"PATH\"] += os.pathsep + \"/opt/homebrew/bin\"\n",
    "\n",
    "def extract_audio_from_video(video_path, audio_path):\n",
    "    command = [\"/opt/homebrew/bin/ffmpeg\", \"-i\", video_path, \"-vn\", audio_path, \"-y\"]\n",
    "    # result = subprocess.run(command, stdout=subprocess.PIPE, stderr=subprocess.PIPE)\n",
    "    # if result.returncode == 0:\n",
    "    #     print(\"Audio extracted successfully.\")\n",
    "    # else:\n",
    "    #     print(\"Error in extracting audio.\")\n",
    "    #     print(result.stderr.decode())\n",
    "    subprocess.run(command)\n",
    "\n",
    "def cut_audio_in_chunks(audio_path, chunk_size, chunks_folder):\n",
    "    track = AudioSegment.from_mp3(audio_path)\n",
    "    chunk_len = chunk_size * 60 * 1000\n",
    "    chunks = math.ceil(len(track)/chunk_len)\n",
    " \n",
    "    for i in range(chunks):\n",
    "        start_time = i * chunk_len\n",
    "        end_time = (i + 1) * chunk_len\n",
    "        chunk = track[start_time:end_time]\n",
    "        chunk.export(f\"{chunks_folder}chunk_{i}.mp3\", format=\"mp3\")\n",
    "\n",
    "\n",
    "def transcribe_chunks(chunk_folder, destination):\n",
    "    files = glob.glob(f\"{chunk_folder}/*.mp3\")\n",
    "    for file in files:\n",
    "        with open(file, \"rb\") as audio_file, open(destination, \"a\") as text_file:\n",
    "            transcript = openai.Audio.transcribe(\n",
    "                \"whisper-1\",\n",
    "                audio_file,\n",
    "            )\n",
    "            text_file.write(transcript[\"text\"])\n",
    "\n"
   ]
  },
  {
   "cell_type": "code",
   "execution_count": 11,
   "metadata": {},
   "outputs": [
    {
     "data": {
      "text/plain": [
       "'./.cache/chunks/1_chunk'"
      ]
     },
     "execution_count": 11,
     "metadata": {},
     "output_type": "execute_result"
    }
   ],
   "source": [
    "import glob\n",
    "\n",
    "files = glob.glob(\"./.cache/chunks/*.mp3\")\n",
    "files\n",
    "\n",
    "files[0][:-4]"
   ]
  },
  {
   "cell_type": "code",
   "execution_count": 10,
   "metadata": {},
   "outputs": [
    {
     "data": {
      "text/plain": [
       "False"
      ]
     },
     "execution_count": 10,
     "metadata": {},
     "output_type": "execute_result"
    }
   ],
   "source": [
    "import os\n",
    "\n",
    "os.path.exists(\"./.cache/eng_vedio.txt\")"
   ]
  },
  {
   "cell_type": "code",
   "execution_count": null,
   "metadata": {},
   "outputs": [],
   "source": [
    "extract_audio_from_video(\"./files/eng_vedio.mp4\", \"./files/audio.mp3\")\n",
    "cut_audio_in_chunks(\"./files/audio.mp3\",10,\"./files/chunks/\")\n",
    "transcribe_chunks(\"./files/chunks\", \"./files/transcript.txt\")"
   ]
  },
  {
   "cell_type": "code",
   "execution_count": null,
   "metadata": {},
   "outputs": [],
   "source": [
    "from pydub import AudioSegment\n",
    "import os\n",
    "# ffmpeg와 ffprobe의 경로를 환경 번수에 설정\n",
    "#os.environ[\"PATH\"] += os.pathsep + \"/opt/homebrew/bin\"\n",
    "\n",
    "track = AudioSegment.from_mp3(\"./files/audio.mp3\")\n",
    "track.duration_seconds\n",
    "ten_minutes = 10 * 60 * 1000  # 10분 * 60초 * 1000 = pydub은 militorisecond을 사용하기 때문\n",
    "\n",
    "#/opt/homebrew/bin/ffmpeg\n",
    "import math\n",
    "\n",
    "#math.ceil = 반올림 / math.floor = 버림\n",
    "chunks = math.ceil(len(track) / ten_minutes) #10분씩 쪼갰을때 생성되는 파일의 갯수 \n",
    "\n",
    "for i in range(chunks):\n",
    "    start_time = i * ten_minutes\n",
    "    end_time = (i+1) * ten_minutes\n",
    "    chunk = track[start_time:end_time]\n",
    "    chunk.export(f\"./files/chunks/chunk_{i}.mp3\", format=\"mp3\")\n",
    "\n",
    "os.environ\n"
   ]
  },
  {
   "cell_type": "code",
   "execution_count": 38,
   "metadata": {},
   "outputs": [],
   "source": [
    "a = [1,10,11,12,2,3,4,5,22,23,34]\n",
    "\n",
    "a.sort()"
   ]
  },
  {
   "cell_type": "code",
   "execution_count": 39,
   "metadata": {},
   "outputs": [
    {
     "data": {
      "text/plain": [
       "[1, 2, 3, 4, 5, 10, 11, 12, 22, 23, 34]"
      ]
     },
     "execution_count": 39,
     "metadata": {},
     "output_type": "execute_result"
    }
   ],
   "source": [
    "a"
   ]
  },
  {
   "cell_type": "code",
   "execution_count": null,
   "metadata": {},
   "outputs": [],
   "source": []
  }
 ],
 "metadata": {
  "kernelspec": {
   "display_name": "env",
   "language": "python",
   "name": "python3"
  },
  "language_info": {
   "codemirror_mode": {
    "name": "ipython",
    "version": 3
   },
   "file_extension": ".py",
   "mimetype": "text/x-python",
   "name": "python",
   "nbconvert_exporter": "python",
   "pygments_lexer": "ipython3",
   "version": "3.11.6"
  }
 },
 "nbformat": 4,
 "nbformat_minor": 2
}
