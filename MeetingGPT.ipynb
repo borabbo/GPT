{
 "cells": [
  {
   "cell_type": "code",
   "execution_count": null,
   "metadata": {},
   "outputs": [],
   "source": [
    "import subprocess\n",
    "import math\n",
    "\n",
    "def extract_audio_from_video(video_path, audio_path):\n",
    "    command = [\"/opt/homebrew/bin/ffmpeg\", \"-i\", video_path, \"-vn\", audio_path, \"-y\"]\n",
    "    # result = subprocess.run(command, stdout=subprocess.PIPE, stderr=subprocess.PIPE)\n",
    "    # if result.returncode == 0:\n",
    "    #     print(\"Audio extracted successfully.\")\n",
    "    # else:\n",
    "    #     print(\"Error in extracting audio.\")\n",
    "    #     print(result.stderr.decode())\n",
    "    subprocess.run(command)\n",
    "\n",
    "extract_audio_from_video(\"./files/video.mov\", \"./files/audio.mp3\")\n",
    "\n"
   ]
  },
  {
   "cell_type": "code",
   "execution_count": 7,
   "metadata": {},
   "outputs": [],
   "source": [
    "from pydub import AudioSegment\n",
    "import os\n",
    "# ffmpeg와 ffprobe의 경로를 환경 번수에 설정\n",
    "\n",
    "os.environ[\"PATH\"] += os.pathsep + \"/opt/homebrew/bin\"\n",
    "\n",
    "track = AudioSegment.from_mp3(\"./files/audio.mp3\")\n",
    "track.duration_seconds\n",
    "ten_minutes = 10 * 60 * 1000  # 10분 * 60초 * 1000 = pydub은 militorisecond을 사용하기 때문\n",
    "\n",
    "#/opt/homebrew/bin/ffmpeg\n",
    "import math\n",
    "\n",
    "#math.ceil = 반올림 / math.floor = 버림\n",
    "chunks = math.ceil(len(track) / ten_minutes) #10분씩 쪼갰을때 생성되는 파일의 갯수 \n",
    "\n",
    "for i in range(chunks):\n",
    "    start_time = i * ten_minutes\n",
    "    end_time = (i+1) * ten_minutes\n",
    "    chunk = track[start_time:end_time]\n",
    "    chunk.export(f\"./files/chunks/chunk_{i}.mp3\", format=\"mp3\")\n"
   ]
  },
  {
   "cell_type": "code",
   "execution_count": 14,
   "metadata": {},
   "outputs": [],
   "source": [
    "from pydub import AudioSegment\n",
    "import os\n",
    "import math\n",
    "# ffmpeg와 ffprobe의 경로를 환경 번수에 설정\n",
    "os.environ[\"PATH\"] += os.pathsep + \"/opt/homebrew/bin\"\n",
    "\n",
    "\n",
    "def cunt_audio_in_chunks(audio_path, chunk_size, chunks_folder):\n",
    "    track = AudioSegment.from_mp3(audio_path)\n",
    "    chunk_len = chunk_size * 60 * 1000\n",
    "    chunks = math.ceil(len(track)/chunk_len)\n",
    " \n",
    "    for i in range(chunks):\n",
    "        start_time = i * chunk_len\n",
    "        end_time = (i + 1) * chunk_len\n",
    "        chunk = track[start_time:end_time]\n",
    "        chunk.export(f\"{chunks_folder}chunk_{i}.mp3\", format=\"mp3\")\n"
   ]
  },
  {
   "cell_type": "code",
   "execution_count": 15,
   "metadata": {},
   "outputs": [],
   "source": [
    "cunt_audio_in_chunks(\"./files/audio.mp3\", 10, \"./files/chunks/\")"
   ]
  }
 ],
 "metadata": {
  "kernelspec": {
   "display_name": "env",
   "language": "python",
   "name": "python3"
  },
  "language_info": {
   "codemirror_mode": {
    "name": "ipython",
    "version": 3
   },
   "file_extension": ".py",
   "mimetype": "text/x-python",
   "name": "python",
   "nbconvert_exporter": "python",
   "pygments_lexer": "ipython3",
   "version": "3.11.6"
  }
 },
 "nbformat": 4,
 "nbformat_minor": 2
}
